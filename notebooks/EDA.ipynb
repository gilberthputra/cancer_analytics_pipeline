{
 "cells": [
  {
   "cell_type": "code",
   "execution_count": 5,
   "id": "aee9ca44",
   "metadata": {},
   "outputs": [],
   "source": [
    "import pandas as pd\n",
    "import numpy as np\n",
    "import seaborn as sns\n",
    "import matplotlib.pyplot as plt"
   ]
  },
  {
   "cell_type": "markdown",
   "id": "6158e19f",
   "metadata": {},
   "source": [
    "### Extraction"
   ]
  },
  {
   "cell_type": "markdown",
   "id": "4a90c486",
   "metadata": {},
   "source": [
    "Download manually from: https://www.aihw.gov.au/reports/cancer/cancer-data-in-australia/data"
   ]
  },
  {
   "cell_type": "code",
   "execution_count": 6,
   "id": "8ae8f1cf",
   "metadata": {},
   "outputs": [],
   "source": [
    "pd.read_excel('../data/raw/aihw-can-122-CDiA-2023-Book-1a-Cancer-incidence-age-standardised-rates-5-year-age-groups.xlsx', \n",
    "            sheet_name='Table S1a.1',\n",
    "            skiprows=5,\n",
    "            skipfooter=20).drop(columns='Unnamed: 11').replace(\". .\", \"\").to_csv('../data/transformed/book1a_incidence.csv', header=False, index=False, sep='|')\n",
    "pd.read_excel('../data/raw/aihw-can-122-CDiA-2023-Book-2a-Cancer-mortality-and-age-standardised-rates-by-age-5-year-groups.xlsx', \n",
    "            sheet_name='Table S2a.1',\n",
    "            skiprows=5,\n",
    "            skipfooter=18).drop(columns='Unnamed: 11').replace(\". .\", \"\").to_csv('../data/transformed/book2a_mortality.csv', header=False, index=False, sep='|')\n",
    "pd.read_excel('../data/raw/aihw-can-122-CDiA-2023-Book-3a-Cancer-survival-summary-observed-relative-conditional-estimates.xlsx', \n",
    "            sheet_name='Table S3a.2',\n",
    "            skiprows=5,\n",
    "            skipfooter=10).drop(columns='Unnamed: 9').replace(\". .\", \"\").to_csv('../data/transformed/book3a_survival.csv', header=False, index=False, sep='|')\n",
    "pd.read_excel('../data/raw/aihw-can-122-CDiA-2023-Book-7-Cancer-incidence-by-state-and-territory.xlsx', \n",
    "            sheet_name='Table S7.1',\n",
    "            skiprows=5,\n",
    "            skipfooter=17).drop(columns='Unnamed: 8').replace(\". .\", \"\").to_csv('../data/transformed/book7_territory.csv', header=False, index=False, sep='|')"
   ]
  }
 ],
 "metadata": {
  "kernelspec": {
   "display_name": "cancer_dashboard",
   "language": "python",
   "name": "python3"
  },
  "language_info": {
   "codemirror_mode": {
    "name": "ipython",
    "version": 3
   },
   "file_extension": ".py",
   "mimetype": "text/x-python",
   "name": "python",
   "nbconvert_exporter": "python",
   "pygments_lexer": "ipython3",
   "version": "3.11.5"
  }
 },
 "nbformat": 4,
 "nbformat_minor": 5
}
