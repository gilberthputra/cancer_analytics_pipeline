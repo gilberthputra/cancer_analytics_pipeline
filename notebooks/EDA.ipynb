{
 "cells": [
  {
   "cell_type": "code",
   "execution_count": 1,
   "id": "aee9ca44",
   "metadata": {},
   "outputs": [],
   "source": [
    "import pandas as pd"
   ]
  },
  {
   "cell_type": "markdown",
   "id": "6158e19f",
   "metadata": {},
   "source": [
    "### Extraction"
   ]
  },
  {
   "cell_type": "markdown",
   "id": "4a90c486",
   "metadata": {},
   "source": [
    "Download manually from: https://www.aihw.gov.au/reports/cancer/cancer-data-in-australia/data"
   ]
  },
  {
   "cell_type": "code",
   "execution_count": 2,
   "id": "8ae8f1cf",
   "metadata": {},
   "outputs": [],
   "source": [
    "pd.read_excel('../data/raw/aihw-can-122-CDiA-2023-Book-1a-Cancer-incidence-age-standardised-rates-5-year-age-groups.xlsx', \n",
    "            sheet_name='Table S1a.1',\n",
    "            skiprows=5,\n",
    "            skipfooter=20).iloc[:, :6].replace(\". .\", \"\").to_csv('../data/transformed/incidence.csv', index=False, sep='|')\n",
    "pd.read_excel('../data/raw/aihw-can-122-CDiA-2023-Book-2a-Cancer-mortality-and-age-standardised-rates-by-age-5-year-groups.xlsx', \n",
    "            sheet_name='Table S2a.1',\n",
    "            skiprows=5,\n",
    "            skipfooter=18).iloc[:, :6].replace(\". .\", \"\").to_csv('../data/transformed/mortality.csv', index=False, sep='|')\n",
    "pd.read_excel('../data/raw/aihw-can-122-CDiA-2023-Book-3a-Cancer-survival-summary-observed-relative-conditional-estimates.xlsx', \n",
    "            sheet_name='Table S3a.2',\n",
    "            skiprows=5,\n",
    "            skipfooter=10).iloc[:, :-2].replace(\"n.p.\", \"\").to_csv('../data/transformed/survival.csv', index=False, sep='|')\n",
    "pd.read_excel('../data/raw/aihw-can-122-CDiA-2023-Book-7-Cancer-incidence-by-state-and-territory.xlsx', \n",
    "            sheet_name='Table S7.1',\n",
    "            skiprows=5,\n",
    "            skipfooter=17).iloc[:, :6].replace(\". .\", \"\").to_csv('../data/transformed/territory.csv', index=False, sep='|')"
   ]
  }
 ],
 "metadata": {
  "kernelspec": {
   "display_name": "cancer_dashboard",
   "language": "python",
   "name": "python3"
  },
  "language_info": {
   "codemirror_mode": {
    "name": "ipython",
    "version": 3
   },
   "file_extension": ".py",
   "mimetype": "text/x-python",
   "name": "python",
   "nbconvert_exporter": "python",
   "pygments_lexer": "ipython3",
   "version": "3.11.5"
  }
 },
 "nbformat": 4,
 "nbformat_minor": 5
}
